{
 "cells": [
  {
   "cell_type": "code",
   "execution_count": 1,
   "metadata": {},
   "outputs": [],
   "source": [
    "import numpy as np\n",
    "import pandas as pd\n",
    "import matplotlib.pyplot as plt\n",
    "from sklearn.model_selection import cross_val_score\n",
    "from  sklearn.model_selection  import  GridSearchCV\n",
    "from sklearn.metrics import confusion_matrix\n",
    "from  sklearn.decomposition  import  PCA\n",
    "from sklearn.svm import SVC\n",
    "from sklearn import preprocessing\n",
    "from sklearn.model_selection import train_test_split\n",
    "import matplotlib.image as mpimg\n",
    "from sklearn.metrics import accuracy_score\n",
    "%matplotlib inline"
   ]
  },
  {
   "cell_type": "code",
   "execution_count": 2,
   "metadata": {},
   "outputs": [
    {
     "data": {
      "text/plain": [
       "0      13\n",
       "1      30\n",
       "2      34\n",
       "3      19\n",
       "4      24\n",
       "       ..\n",
       "395    32\n",
       "396    19\n",
       "397    11\n",
       "398     4\n",
       "399    17\n",
       "Name: Label, Length: 400, dtype: int64"
      ]
     },
     "execution_count": 2,
     "metadata": {},
     "output_type": "execute_result"
    }
   ],
   "source": [
    "#Part A\n",
    "df = pd.read_csv('/Users/Kevin/Desktop/Face/label.csv')\n",
    "y = df['Label']\n",
    "y"
   ]
  },
  {
   "cell_type": "code",
   "execution_count": 3,
   "metadata": {},
   "outputs": [
    {
     "data": {
      "text/plain": [
       "400"
      ]
     },
     "execution_count": 3,
     "metadata": {},
     "output_type": "execute_result"
    }
   ],
   "source": [
    "df.shape[0]"
   ]
  },
  {
   "cell_type": "code",
   "execution_count": 4,
   "metadata": {},
   "outputs": [],
   "source": [
    "#importing images from desktop\n",
    "images = []\n",
    "for i in range(400):\n",
    "    images.append(mpimg.imread('/Users/Kevin/Desktop/Face/' + str(i) + '.jpg'))"
   ]
  },
  {
   "cell_type": "code",
   "execution_count": 5,
   "metadata": {
    "scrolled": true
   },
   "outputs": [
    {
     "data": {
      "text/plain": [
       "<matplotlib.image.AxesImage at 0x7fa562fe9190>"
      ]
     },
     "execution_count": 5,
     "metadata": {},
     "output_type": "execute_result"
    },
    {
     "data": {
      "image/png": "[encoded data removed]",
      "text/plain": [
       "<Figure size 432x288 with 1 Axes>"
      ]
     },
     "metadata": {
      "needs_background": "light"
     },
     "output_type": "display_data"
    }
   ],
   "source": [
    "plt.imshow(images[69], cmap=plt.cm.gray)"
   ]
  },
  {
   "cell_type": "code",
   "execution_count": 6,
   "metadata": {},
   "outputs": [
    {
     "data": {
      "text/html": [
       "<div>\n",
       "<style scoped>\n",
       "    .dataframe tbody tr th:only-of-type {\n",
       "        vertical-align: middle;\n",
       "    }\n",
       "\n",
       "    .dataframe tbody tr th {\n",
       "        vertical-align: top;\n",
       "    }\n",
       "\n",
       "    .dataframe thead th {\n",
       "        text-align: right;\n",
       "    }\n",
       "</style>\n",
       "<table border=\"1\" class=\"dataframe\">\n",
       "  <thead>\n",
       "    <tr style=\"text-align: right;\">\n",
       "      <th></th>\n",
       "      <th>Pixel 0</th>\n",
       "      <th>Pixel 1</th>\n",
       "      <th>Pixel 2</th>\n",
       "      <th>Pixel 3</th>\n",
       "      <th>Pixel 4</th>\n",
       "      <th>Pixel 5</th>\n",
       "      <th>Pixel 6</th>\n",
       "      <th>Pixel 7</th>\n",
       "      <th>Pixel 8</th>\n",
       "      <th>Pixel 9</th>\n",
       "      <th>...</th>\n",
       "      <th>Pixel 4086</th>\n",
       "      <th>Pixel 4087</th>\n",
       "      <th>Pixel 4088</th>\n",
       "      <th>Pixel 4089</th>\n",
       "      <th>Pixel 4090</th>\n",
       "      <th>Pixel 4091</th>\n",
       "      <th>Pixel 4092</th>\n",
       "      <th>Pixel 4093</th>\n",
       "      <th>Pixel 4094</th>\n",
       "      <th>Pixel 4095</th>\n",
       "    </tr>\n",
       "  </thead>\n",
       "  <tbody>\n",
       "    <tr>\n",
       "      <th>0</th>\n",
       "      <td>186</td>\n",
       "      <td>183</td>\n",
       "      <td>179</td>\n",
       "      <td>190</td>\n",
       "      <td>212</td>\n",
       "      <td>219</td>\n",
       "      <td>221</td>\n",
       "      <td>232</td>\n",
       "      <td>230</td>\n",
       "      <td>231</td>\n",
       "      <td>...</td>\n",
       "      <td>56</td>\n",
       "      <td>45</td>\n",
       "      <td>47</td>\n",
       "      <td>18</td>\n",
       "      <td>0</td>\n",
       "      <td>8</td>\n",
       "      <td>15</td>\n",
       "      <td>9</td>\n",
       "      <td>3</td>\n",
       "      <td>5</td>\n",
       "    </tr>\n",
       "    <tr>\n",
       "      <th>1</th>\n",
       "      <td>204</td>\n",
       "      <td>198</td>\n",
       "      <td>194</td>\n",
       "      <td>195</td>\n",
       "      <td>198</td>\n",
       "      <td>195</td>\n",
       "      <td>190</td>\n",
       "      <td>186</td>\n",
       "      <td>190</td>\n",
       "      <td>193</td>\n",
       "      <td>...</td>\n",
       "      <td>19</td>\n",
       "      <td>0</td>\n",
       "      <td>29</td>\n",
       "      <td>52</td>\n",
       "      <td>90</td>\n",
       "      <td>146</td>\n",
       "      <td>130</td>\n",
       "      <td>120</td>\n",
       "      <td>164</td>\n",
       "      <td>167</td>\n",
       "    </tr>\n",
       "    <tr>\n",
       "      <th>2</th>\n",
       "      <td>86</td>\n",
       "      <td>79</td>\n",
       "      <td>82</td>\n",
       "      <td>95</td>\n",
       "      <td>100</td>\n",
       "      <td>102</td>\n",
       "      <td>121</td>\n",
       "      <td>146</td>\n",
       "      <td>169</td>\n",
       "      <td>179</td>\n",
       "      <td>...</td>\n",
       "      <td>160</td>\n",
       "      <td>167</td>\n",
       "      <td>179</td>\n",
       "      <td>169</td>\n",
       "      <td>192</td>\n",
       "      <td>188</td>\n",
       "      <td>197</td>\n",
       "      <td>189</td>\n",
       "      <td>185</td>\n",
       "      <td>141</td>\n",
       "    </tr>\n",
       "    <tr>\n",
       "      <th>3</th>\n",
       "      <td>61</td>\n",
       "      <td>90</td>\n",
       "      <td>98</td>\n",
       "      <td>119</td>\n",
       "      <td>144</td>\n",
       "      <td>156</td>\n",
       "      <td>174</td>\n",
       "      <td>177</td>\n",
       "      <td>183</td>\n",
       "      <td>195</td>\n",
       "      <td>...</td>\n",
       "      <td>119</td>\n",
       "      <td>244</td>\n",
       "      <td>246</td>\n",
       "      <td>168</td>\n",
       "      <td>126</td>\n",
       "      <td>187</td>\n",
       "      <td>162</td>\n",
       "      <td>145</td>\n",
       "      <td>58</td>\n",
       "      <td>18</td>\n",
       "    </tr>\n",
       "    <tr>\n",
       "      <th>4</th>\n",
       "      <td>99</td>\n",
       "      <td>134</td>\n",
       "      <td>165</td>\n",
       "      <td>183</td>\n",
       "      <td>201</td>\n",
       "      <td>210</td>\n",
       "      <td>215</td>\n",
       "      <td>224</td>\n",
       "      <td>232</td>\n",
       "      <td>236</td>\n",
       "      <td>...</td>\n",
       "      <td>83</td>\n",
       "      <td>90</td>\n",
       "      <td>94</td>\n",
       "      <td>90</td>\n",
       "      <td>70</td>\n",
       "      <td>41</td>\n",
       "      <td>71</td>\n",
       "      <td>103</td>\n",
       "      <td>92</td>\n",
       "      <td>117</td>\n",
       "    </tr>\n",
       "  </tbody>\n",
       "</table>\n",
       "<p>5 rows × 4096 columns</p>\n",
       "</div>"
      ],
      "text/plain": [
       "  Pixel 0 Pixel 1 Pixel 2 Pixel 3 Pixel 4 Pixel 5 Pixel 6 Pixel 7 Pixel 8  \\\n",
       "0     186     183     179     190     212     219     221     232     230   \n",
       "1     204     198     194     195     198     195     190     186     190   \n",
       "2      86      79      82      95     100     102     121     146     169   \n",
       "3      61      90      98     119     144     156     174     177     183   \n",
       "4      99     134     165     183     201     210     215     224     232   \n",
       "\n",
       "  Pixel 9  ... Pixel 4086 Pixel 4087 Pixel 4088 Pixel 4089 Pixel 4090  \\\n",
       "0     231  ...         56         45         47         18          0   \n",
       "1     193  ...         19          0         29         52         90   \n",
       "2     179  ...        160        167        179        169        192   \n",
       "3     195  ...        119        244        246        168        126   \n",
       "4     236  ...         83         90         94         90         70   \n",
       "\n",
       "  Pixel 4091 Pixel 4092 Pixel 4093 Pixel 4094 Pixel 4095  \n",
       "0          8         15          9          3          5  \n",
       "1        146        130        120        164        167  \n",
       "2        188        197        189        185        141  \n",
       "3        187        162        145         58         18  \n",
       "4         41         71        103         92        117  \n",
       "\n",
       "[5 rows x 4096 columns]"
      ]
     },
     "execution_count": 6,
     "metadata": {},
     "output_type": "execute_result"
    }
   ],
   "source": [
    "#Part B\n",
    "#building feature matrix and label vector\n",
    "columns = []\n",
    "for k in range(4096):\n",
    "    columns.append(\"Pixel \" + str(k))\n",
    "images_df = pd.DataFrame(columns=columns)\n",
    "    \n",
    "for z in range(len(images)):\n",
    "    pixels = images[z].flatten()\n",
    "    images_df.loc[z] = pixels\n",
    "    \n",
    "images_df.head()"
   ]
  },
  {
   "cell_type": "code",
   "execution_count": 7,
   "metadata": {},
   "outputs": [
    {
     "data": {
      "text/plain": [
       "array([[ 1.37649641,  1.11885303,  0.79610373, ..., -1.17094622,\n",
       "        -1.24726506, -1.21711982],\n",
       "       [ 1.68113398,  1.3654141 ,  1.03570156, ...,  0.68710075,\n",
       "         1.48558299,  1.58234648],\n",
       "       [-0.31593455, -0.59063704, -0.75329558, ...,  1.84210291,\n",
       "         1.84204144,  1.13304942],\n",
       "       ...,\n",
       "       [ 0.98723729,  1.02022861,  1.01972837, ..., -0.58507555,\n",
       "        -0.48342554, -0.38764832],\n",
       "       [ 0.68259971,  0.52710647,  0.34885444, ...,  0.88797069,\n",
       "         0.63687242,  0.71831368],\n",
       "       [-0.231313  , -0.67282406, -1.0088666 , ..., -0.06616154,\n",
       "        -0.55132239, -0.50861291]])"
      ]
     },
     "execution_count": 7,
     "metadata": {},
     "output_type": "execute_result"
    }
   ],
   "source": [
    "#Part C\n",
    "scale_X = preprocessing.scale(images_df)\n",
    "scale_X"
   ]
  },
  {
   "cell_type": "code",
   "execution_count": 8,
   "metadata": {},
   "outputs": [],
   "source": [
    "#Part D\n",
    "X_train, X_test, y_train, y_test = train_test_split(scale_X, y, test_size=0.25, random_state=5)"
   ]
  },
  {
   "cell_type": "code",
   "execution_count": 9,
   "metadata": {},
   "outputs": [],
   "source": [
    "#Part E\n",
    "#Principal Component Analysis\n",
    "k = 50\n",
    "my_pca = PCA(n_components = k)\n",
    "X_Train_new = my_pca.fit_transform(X_train)\n",
    "X_Test_new = my_pca.transform(X_test)"
   ]
  },
  {
   "cell_type": "code",
   "execution_count": 13,
   "metadata": {},
   "outputs": [],
   "source": [
    "#Part F\n",
    "my_svc = SVC(C=1,kernel='rbf',gamma=0.0005,random_state=1)\n",
    "my_svc.fit(X_Train_new,y_train)\n",
    "y_predict = my_svc.predict(X_Test_new)"
   ]
  },
  {
   "cell_type": "code",
   "execution_count": 14,
   "metadata": {},
   "outputs": [
    {
     "name": "stdout",
     "output_type": "stream",
     "text": [
      "The accuracy is: \n",
      "0.91\n"
     ]
    }
   ],
   "source": [
    "SVC_accuracy = accuracy_score(y_test,y_predict)\n",
    "\n",
    "print(\"The accuracy is: \")\n",
    "print(SVC_accuracy)"
   ]
  },
  {
   "cell_type": "code",
   "execution_count": 15,
   "metadata": {},
   "outputs": [
    {
     "name": "stdout",
     "output_type": "stream",
     "text": [
      "Confusion Matrix:\n",
      "[[3 0 0 ... 0 0 0]\n",
      " [0 3 0 ... 0 0 0]\n",
      " [0 0 1 ... 0 0 0]\n",
      " ...\n",
      " [0 0 0 ... 0 0 0]\n",
      " [0 0 0 ... 0 4 0]\n",
      " [0 0 0 ... 0 0 1]]\n"
     ]
    }
   ],
   "source": [
    "cm = confusion_matrix(y_test, y_predict)\n",
    "print('Confusion Matrix:')\n",
    "print(cm)"
   ]
  },
  {
   "cell_type": "code",
   "execution_count": 22,
   "metadata": {},
   "outputs": [
    {
     "data": {
      "text/plain": [
       "GridSearchCV(cv=10, estimator=SVC(C=1, gamma=0.0005, random_state=1),\n",
       "             param_grid={'C': [0.1, 1, 10, 100, 1000.0, 5000.0, 10000.0,\n",
       "                               50000.0, 100000.0]},\n",
       "             scoring='accuracy')"
      ]
     },
     "execution_count": 22,
     "metadata": {},
     "output_type": "execute_result"
    }
   ],
   "source": [
    "#Part G\n",
    "C = [0.1, 1, 10, 100, 1e3, 5e3, 1e4, 5e4, 1e5]\n",
    "param_grid = dict(C = C)\n",
    "X_normalized_pca=my_pca.fit_transform(scale_X)\n",
    "\n",
    "grid = GridSearchCV(my_svc, param_grid=param_grid , cv=10, scoring='accuracy')\n",
    "grid.fit(X_normalized_pca,y)"
   ]
  },
  {
   "cell_type": "code",
   "execution_count": 23,
   "metadata": {},
   "outputs": [
    {
     "name": "stdout",
     "output_type": "stream",
     "text": [
      "The best C is: {'C': 10}\n"
     ]
    }
   ],
   "source": [
    "print('The best C is:', grid.best_params_ )"
   ]
  },
  {
   "cell_type": "code",
   "execution_count": 25,
   "metadata": {},
   "outputs": [
    {
     "name": "stdout",
     "output_type": "stream",
     "text": [
      "The accuracy is:  0.9649999999999999\n"
     ]
    }
   ],
   "source": [
    "print('The accuracy is: ', grid.best_score_)"
   ]
  }
 ],
 "metadata": {
  "kernelspec": {
   "display_name": "Python 3",
   "language": "python",
   "name": "python3"
  },
  "language_info": {
   "codemirror_mode": {
    "name": "ipython",
    "version": 3
   },
   "file_extension": ".py",
   "mimetype": "text/x-python",
   "name": "python",
   "nbconvert_exporter": "python",
   "pygments_lexer": "ipython3",
   "version": "3.8.5"
  }
 },
 "nbformat": 4,
 "nbformat_minor": 4
}
